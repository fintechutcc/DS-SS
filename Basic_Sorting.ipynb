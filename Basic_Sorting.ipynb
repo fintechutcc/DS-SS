{
 "cells": [
  {
   "cell_type": "code",
   "execution_count": null,
   "metadata": {
    "collapsed": true
   },
   "outputs": [],
   "source": [
    "class Sorting:\n",
    "    def __init__(self, alg):\n",
    "        self.data = None\n",
    "        self.algorithm = alg\n",
    "\n",
    "    def sort(self):\n",
    "        if self.algorithm is Sorting and self.data is not None:\n",
    "            self.algorithm.sort(self.data)\n",
    "\n",
    "    def get_data(self):\n",
    "        return self.data\n",
    "\n",
    "    def set_data(self, data):\n",
    "        self.data = data\n",
    "\n",
    "    def get_algorithm(self):\n",
    "        return self.algorithm\n",
    "\n",
    "    def set_algorithm(self, alg):\n",
    "        self.algorithm = alg\n",
    "\n"
   ]
  },
  {
   "cell_type": "code",
   "execution_count": null,
   "outputs": [],
   "source": [
    "class SortingAlgorithm:\n",
    "    @abs\n",
    "    def sort(self, data):\n",
    "        pass"
   ],
   "metadata": {
    "collapsed": false
   }
  }
 ],
 "metadata": {
  "kernelspec": {
   "display_name": "Python 3",
   "language": "python",
   "name": "python3"
  },
  "language_info": {
   "codemirror_mode": {
    "name": "ipython",
    "version": 2
   },
   "file_extension": ".py",
   "mimetype": "text/x-python",
   "name": "python",
   "nbconvert_exporter": "python",
   "pygments_lexer": "ipython2",
   "version": "2.7.6"
  }
 },
 "nbformat": 4,
 "nbformat_minor": 0
}
